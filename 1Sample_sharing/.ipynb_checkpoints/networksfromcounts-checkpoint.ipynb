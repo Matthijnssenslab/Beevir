{
 "cells": [
  {
   "cell_type": "code",
   "execution_count": 11,
   "metadata": {},
   "outputs": [],
   "source": [
    "# This notebook creates the sample sharing network, and the contig sharing network.\n",
    "# Also provides little bit information in amount of sharing, and some read stats.\n",
    "\n",
    "# Required files:\n",
    "### data/counts.tsv\n",
    "### data/coverage_tpmean.tsv\n",
    "\n",
    "#For this analysis, resulting edge lists were processed with Cytoscape."
   ]
  },
  {
   "cell_type": "code",
   "execution_count": 12,
   "metadata": {},
   "outputs": [],
   "source": [
    "import pandas as pd\n",
    "import numpy as np\n",
    "import os\n",
    "import itertools\n",
    "import networkx as nx\n",
    "import csv\n",
    "import matplotlib.pyplot as plt\n",
    "import seaborn as sns\n",
    "from sklearn.manifold import MDS\n",
    "from sklearn.decomposition import PCA\n",
    "from sklearn.preprocessing import StandardScaler\n",
    "from sklearn.metrics import euclidean_distances\n",
    "%matplotlib inline\n",
    "sns.set(font='arial')\n",
    "sns.set_style(\"white\")\n",
    "sns.set_style(\"ticks\")\n",
    "plt.rcParams['figure.figsize']=(15,10)"
   ]
  },
  {
   "cell_type": "code",
   "execution_count": 13,
   "metadata": {},
   "outputs": [],
   "source": [
    "#Dead and alive lists:\n",
    "Dead = ['BP2','BP4','BP7','BP8','BP9','BP12','BP14','BP15','BP18','BP20','BP22','BP24','BP25','BP27','BP30','BP31','BP32','BP33','BP36','BP38','BP40','BP42','BP44','BP47','BP48','BeeP-01-2013','BeeP-04-2013','BeeP-05-2013','BeeP-07-2013','BeeP-09-2013','BeeP-11-2013','BeeP-13-2013','BeeP-15-2013','BeeP-16-2013','BeeP-18-2013','BeeP-19-2013','BeeP-23-2013','BeeP-24-2013','BeeP-26-2013','BeeP-29-2013','BeeP-31-2013','BeeP-33-2013','BeeP-34-2013','BeeP-37-2013','BeeP-38-2013','BeeP-41-2013','BeeP-44-2013','BeeP-46-2013','BeeP-48-2013','BeeP-50-2013','BeeP-Q2-2013']\n",
    "Alive = ['BP1','BP3','BP5','BP6','BP10','BP11','BP13','BP16','BP17','BP19','BP21','BP23','BP26','BP26','BP28','BP29','BP34','BP35','BP37','BP39','BP41','BP43','BP45','BP46','BP49','BP50','BeeP-02-2013','BeeP-03-2013','BeeP-06-2013','BeeP-08-2013','BeeP-10-2013','BeeP-12-2013','BeeP-14-2013','BeeP-17-2013','BeeP-20-2013','BeeP-21-2013','BeeP-22-2013','BeeP-25-2013','BeeP-27-2013','BeeP-28-2013','BeeP-30-2013','BeeP-32-2013','BeeP-35-2013','BeeP-36-2013','BeeP-39-2013','BeeP-40-2013','BeeP-42-2013','BeeP-43-2013','BeeP-45-2013','BeeP-47-2013','BeeP-49-2013','BeeP-Q1-2013']"
   ]
  },
  {
   "cell_type": "code",
   "execution_count": 25,
   "metadata": {},
   "outputs": [
    {
     "name": "stdout",
     "output_type": "stream",
     "text": [
      "In Total: 552 Survive 10tpmean-10kb treshold.\n",
      "Out of 552 Surviving, 140 are present in more than 1 sample\n",
      "Out of 552 Surviving, 20 are present in 5 or more samples\n"
     ]
    },
    {
     "data": {
      "image/png": "[encoded data removed]",
      "text/plain": [
       "<Figure size 720x360 with 1 Axes>"
      ]
     },
     "metadata": {},
     "output_type": "display_data"
    }
   ],
   "source": [
    "#Which contigs are most shared based on length (more then 5kb), and TPmean (> 10)?\n",
    "#os.listdir()\n",
    "tpmean = pd.read_csv(\"data/coverage_tpmean.tsv\", sep=\"\\t\")\n",
    "del tpmean['Length']\n",
    "tpmelt = tpmean.melt(id_vars='#contig')\n",
    "tpcut = tpmelt[tpmelt['value'] > 10]\n",
    "tpcut.to_csv(\"output/tpmean_melt_cut.tsv\", sep='\\t', index=False, header=False)\n",
    "#Which samples have which contigs present?\n",
    "#Structure: dictionary with sample as key, contigs as values.\n",
    "sam_condic_tp10_5kb = {}\n",
    "with open('output/tpmean_melt_cut.tsv') as f:\n",
    "    for line in f:\n",
    "        if str(line.strip().split()[1].replace('_filtered.bam', '')) in Dead:\n",
    "            checkstrdead = str(line.strip().split()[1].replace('_filtered.bam', '')) + '_dead'\n",
    "            if checkstrdead not in sam_condic_tp10_5kb:\n",
    "                if int(line.strip().split()[0].split('_')[4]) > 5000:\n",
    "                    sam_condic_tp10_5kb[checkstrdead] = [line.strip().split()[0]]\n",
    "            else:\n",
    "                if int(line.strip().split()[0].split('_')[4]) > 5000:\n",
    "                    sam_condic_tp10_5kb[checkstrdead].append(line.strip().split()[0])\n",
    "        if str(line.strip().split()[1].replace('_filtered.bam', '')) in Alive:\n",
    "            checkstral = str(line.strip().split()[1].replace('_filtered.bam', '')) + '_alive'\n",
    "            if checkstral not in sam_condic_tp10_5kb:\n",
    "                if int(line.strip().split()[0].split('_')[4]) > 5000:\n",
    "                    sam_condic_tp10_5kb[checkstral] = [line.strip().split()[0]]\n",
    "            else:\n",
    "                if int(line.strip().split()[0].split('_')[4]) > 5000:\n",
    "                    sam_condic_tp10_5kb[checkstral].append(line.strip().split()[0])\n",
    "        if str(line.strip().split()[1].replace('_filtered.bam', '')) not in Dead and str(line.strip().split()[1].replace('_filtered.bam', '')) not in Alive:\n",
    "            print('problem with: ' + str(line.strip().split()[1].replace('_filtered.bam', '')))\n",
    "#Dictionary done.\n",
    "#Create a reverse datastructure, to see which contigs are in which samples\n",
    "#Structure: dictionary with contig as key, samples as values\n",
    "con_samdic_tp10_5kb = {}\n",
    "contigs_tp10_5kb = []\n",
    "for i in sam_condic_tp10_5kb:\n",
    "    for j in sam_condic_tp10_5kb[i]:\n",
    "        if j not in con_samdic_tp10_5kb:\n",
    "            con_samdic_tp10_5kb[j] = [i]\n",
    "        else:\n",
    "            con_samdic_tp10_5kb[j].append(i)\n",
    "        if j not in contigs_tp10_5kb:\n",
    "            contigs_tp10_5kb.append(j)\n",
    "con_samcount_tp10_5kb = {}\n",
    "for i in con_samdic_tp10_5kb:\n",
    "    con_samcount_tp10_5kb[i] = len(con_samdic_tp10_5kb[i])\n",
    "morethan1 = 0\n",
    "for i in con_samcount_tp10_5kb:\n",
    "    if con_samcount_tp10_5kb[i] > 1:\n",
    "        morethan1 += 1\n",
    "morethan5 = 0\n",
    "for i in con_samcount_tp10_5kb:\n",
    "    if con_samcount_tp10_5kb[i] > 4:\n",
    "        morethan5 += 1\n",
    "#Print some stats to terminal:\n",
    "print('In Total: ' + str(len(con_samcount_tp10_5kb)) + ' Survive 10tpmean-10kb treshold.')\n",
    "print('Out of '+ str(len(con_samcount_tp10_5kb)) + ' Surviving, ' + str(morethan1) + ' are present in more than 1 sample')\n",
    "print('Out of '+ str(len(con_samcount_tp10_5kb)) + ' Surviving, ' + str(morethan5) + ' are present in 5 or more samples')\n",
    "#In this case, we want to grab the contig names of those that are present in 5 or more samples:\n",
    "#And get the samples name also.\n",
    "abphages = []\n",
    "absamples = []\n",
    "for i in con_samdic_tp10_5kb:\n",
    "    if len(con_samdic_tp10_5kb[i]) > 4:\n",
    "        abphages.append(i)\n",
    "        for j in con_samdic_tp10_5kb[i]:\n",
    "            if 'dead' in j:\n",
    "                if j.replace('dead','filtered.bam') not in absamples:\n",
    "                    absamples.append(j.replace('dead','filtered.bam'))\n",
    "            if 'alive' in j:\n",
    "                if j.replace('alive','filtered.bam') not in absamples:\n",
    "                    absamples.append(j.replace('alive','filtered.bam'))\n",
    "#Barplots\n",
    "#Throw in dataframe and sort.\n",
    "tp10_5kbcountDF = pd.Series(con_samcount_tp10_5kb).to_frame('Count')\n",
    "tp10_5kbcountDF = tp10_5kbcountDF.sort_values(['Count'], ascending=False).reset_index(drop=False)\n",
    "#Save figure\n",
    "plt.figure(figsize=(10,5))\n",
    "g = sns.boxplot(y=tp10_5kbcountDF['Count'], showfliers=False)\n",
    "g = sns.swarmplot(y=tp10_5kbcountDF['Count'], alpha=0.5, color='black')\n",
    "g.set(ylim=(0,25))\n",
    "g.set(xlabel='Contigs',ylabel='Number of Pools')\n",
    "g.figure.savefig('figures/Boxplot_numsam.png', dpi=300)"
   ]
  },
  {
   "cell_type": "code",
   "execution_count": 26,
   "metadata": {},
   "outputs": [],
   "source": [
    "#Create networks.\n",
    "#tpmean10: Samplenetwork\n",
    "samplenet_tp10 = []\n",
    "samplenet_tp10.append(['source','target','weight'])\n",
    "for i in itertools.combinations(sam_condic_tp10_5kb.keys(), 2):\n",
    "    sam1 = list(i)[0]\n",
    "    sam2 = list(i)[1]\n",
    "    number = len(list(set(sam_condic_tp10_5kb[sam1]) & set(sam_condic_tp10_5kb[sam2])))\n",
    "    if number > 0:\n",
    "        samplenet_tp10.append([sam1, sam2, number])\n",
    "#And write the edgelist out for viz in other software:\n",
    "with open('output/samplenet_tp10.csv', 'w', newline='') as csvfile:\n",
    "    writer = csv.writer(csvfile)\n",
    "    writer.writerows(samplenet_tp10)"
   ]
  },
  {
   "cell_type": "code",
   "execution_count": 6,
   "metadata": {},
   "outputs": [
    {
     "data": {
      "text/plain": [
       "<matplotlib.axes._subplots.AxesSubplot at 0x7f79a50a8dd8>"
      ]
     },
     "execution_count": 6,
     "metadata": {},
     "output_type": "execute_result"
    },
    {
     "data": {
      "image/png": "[encoded data removed]",
      "text/plain": [
       "<Figure size 432x288 with 1 Axes>"
      ]
     },
     "metadata": {
      "needs_background": "light"
     },
     "output_type": "display_data"
    }
   ],
   "source": []
  },
  {
   "cell_type": "code",
   "execution_count": 7,
   "metadata": {},
   "outputs": [],
   "source": [
    "#Read in counts\n",
    "count = pd.read_csv(\"data/counts.tsv\", sep=\"\\t\", index_col=0)\n",
    "#Divide the rows (which are contigs) by the length of the contig.\n",
    "count = count.iloc[0:,:].div(count['Length'], axis=0)\n",
    "del count['Length']\n",
    "#Now divide over samples (colsums)\n",
    "Total = count.sum(axis=0)\n",
    "relcount = count.iloc[:,0:].div(Total, axis=1)\n",
    "relcount['#contig'] = relcount.index\n",
    "countmelt = relcount.melt(id_vars='#contig')\n",
    "#Save if needed later.\n",
    "countmelt.to_csv(\"output/relativecounts.tsv\", sep='\\t', index=False, header=False)"
   ]
  },
  {
   "cell_type": "code",
   "execution_count": 8,
   "metadata": {},
   "outputs": [
    {
     "data": {
      "text/plain": [
       "<matplotlib.axes._subplots.AxesSubplot at 0x7f79b88c5860>"
      ]
     },
     "execution_count": 8,
     "metadata": {},
     "output_type": "execute_result"
    },
    {
     "data": {
      "image/png": "[encoded data removed]",
      "text/plain": [
       "<Figure size 432x288 with 1 Axes>"
      ]
     },
     "metadata": {
      "needs_background": "light"
     },
     "output_type": "display_data"
    }
   ],
   "source": [
    "#Have a look at the distribution of the 'most shared contigs (calculated by tpmean 10 & 10kb.)'\n",
    "abphagedf = countmelt[countmelt['#contig'].isin(abphages)]\n",
    "abphagedf = abphagedf[abphagedf['variable'].isin(absamples)]\n",
    "g = sns.boxplot(x=abphagedf['#contig'],y=abphagedf['value'])\n",
    "g.set(xticklabels=[])\n",
    "g.set(ylabel='counts/length/totalmappedreads', title='TP10-10kb contigs > 4 samples')\n",
    "g"
   ]
  },
  {
   "cell_type": "code",
   "execution_count": 9,
   "metadata": {},
   "outputs": [
    {
     "name": "stdout",
     "output_type": "stream",
     "text": [
      "In Total: 112 Survive rel1-10kb treshold.\n",
      "Out of 112 Surviving, 62 are present in more than 1 sample\n",
      "Out of 112 Surviving, 22 are present in 5 or more samples\n"
     ]
    },
    {
     "data": {
      "text/plain": [
       "<matplotlib.axes._subplots.AxesSubplot at 0x7f79a4f12da0>"
      ]
     },
     "execution_count": 9,
     "metadata": {},
     "output_type": "execute_result"
    },
    {
     "data": {
      "image/png": "[encoded data removed]",
      "text/plain": [
       "<Figure size 432x288 with 1 Axes>"
      ]
     },
     "metadata": {
      "needs_background": "light"
     },
     "output_type": "display_data"
    }
   ],
   "source": [
    "#Let's put the treshold for relcount at 0.01 (seems reasonable) + keep 10kb limit.\n",
    "sam_condic_rel1_10kb = {}\n",
    "with open('output/relativecounts.tsv') as f:\n",
    "    for line in f:\n",
    "        if int(line.strip().split()[0].split('_')[4]) > 10000:\n",
    "            if str(line.strip().split()[1].replace('_filtered.bam', '')) in Dead:\n",
    "                checkstrdead = str(line.strip().split()[1].replace('_filtered.bam', '')) + '_dead'\n",
    "                if checkstrdead not in sam_condic_rel1_10kb:\n",
    "                    if float(line.strip().split()[2]) >= 0.01:\n",
    "                        sam_condic_rel1_10kb[checkstrdead] = [line.strip().split()[0]]\n",
    "                else:\n",
    "                    if float(line.strip().split()[2]) >= 0.01:\n",
    "                        sam_condic_rel1_10kb[checkstrdead].append(line.strip().split()[0])\n",
    "            if str(line.strip().split()[1].replace('_filtered.bam', '')) in Alive:\n",
    "                checkstral = str(line.strip().split()[1].replace('_filtered.bam', '')) + '_alive'\n",
    "                if checkstral not in sam_condic_rel1_10kb:\n",
    "                    if float(line.strip().split()[2]) >= 0.01:\n",
    "                        sam_condic_rel1_10kb[checkstral] = [line.strip().split()[0]]\n",
    "                else:\n",
    "                    if float(line.strip().split()[2]) >= 0.01:\n",
    "                        sam_condic_rel1_10kb[checkstral].append(line.strip().split()[0])\n",
    "#Create a reverse datastructure, to see which contigs are in which samples\n",
    "#Structure: dictionary with contig as key, samples as values\n",
    "con_samdic_rel1_10kb = {}\n",
    "samples_rel1_10kb = []\n",
    "for i in sam_condic_rel1_10kb:\n",
    "    for j in sam_condic_rel1_10kb[i]:\n",
    "        if j not in con_samdic_rel1_10kb:\n",
    "            con_samdic_rel1_10kb[j] = [i]\n",
    "        else:\n",
    "            con_samdic_rel1_10kb[j].append(i)\n",
    "        if j not in samples_rel1_10kb:\n",
    "            samples_rel1_10kb.append(j)\n",
    "con_samcount_rel1_10kb = {}\n",
    "for i in con_samdic_rel1_10kb:\n",
    "    con_samcount_rel1_10kb[i] = len(con_samdic_rel1_10kb[i])\n",
    "morethan1 = 0\n",
    "for i in con_samcount_rel1_10kb:\n",
    "    if con_samcount_rel1_10kb[i] > 1:\n",
    "        morethan1 += 1\n",
    "morethan5 = 0\n",
    "for i in con_samcount_rel1_10kb:\n",
    "    if con_samcount_rel1_10kb[i] > 4:\n",
    "        morethan5 += 1\n",
    "#Print some stats to terminal:\n",
    "print('In Total: ' + str(len(con_samcount_rel1_10kb)) + ' Survive rel1-10kb treshold.')\n",
    "print('Out of '+ str(len(con_samcount_rel1_10kb)) + ' Surviving, ' + str(morethan1) + ' are present in more than 1 sample')\n",
    "print('Out of '+ str(len(con_samcount_rel1_10kb)) + ' Surviving, ' + str(morethan5) + ' are present in 5 or more samples')\n",
    "#Barplots\n",
    "#Throw in dataframe and sort.\n",
    "rel1_10kbcountDF = pd.Series(con_samcount_rel1_10kb).to_frame('Count')\n",
    "rel1_10kbcountDF = rel1_10kbcountDF.sort_values(['Count'], ascending=False).reset_index(drop=False)\n",
    "g = sns.barplot(x=rel1_10kbcountDF.index.values,y=rel1_10kbcountDF['Count'])\n",
    "g.set(ylim=(0, 35))\n",
    "g.set(xticklabels=[])\n",
    "g"
   ]
  },
  {
   "cell_type": "code",
   "execution_count": 10,
   "metadata": {},
   "outputs": [],
   "source": [
    "#1 more analysis, where we don't take into account the amount of mapped reads (only length)\n",
    "#Read in counts\n",
    "countlen = pd.read_csv(\"data/counts.tsv\", sep=\"\\t\", index_col=0)\n",
    "#Divide the rows (which are contigs) by the length of the contig.\n",
    "countlen = countlen.iloc[0:,:].div(countlen['Length'], axis=0)\n",
    "del countlen['Length']\n",
    "countlen['#contig'] = countlen.index\n",
    "countmeltlen = countlen.melt(id_vars='#contig')\n",
    "#Save if needed later.\n",
    "countmeltlen.to_csv(\"output/relativelength.tsv\", sep='\\t', index=False, header=False)"
   ]
  },
  {
   "cell_type": "code",
   "execution_count": 11,
   "metadata": {},
   "outputs": [
    {
     "data": {
      "text/plain": [
       "<matplotlib.axes._subplots.AxesSubplot at 0x7f79a4ae1ac8>"
      ]
     },
     "execution_count": 11,
     "metadata": {},
     "output_type": "execute_result"
    },
    {
     "data": {
      "image/png": "[encoded data removed]",
      "text/plain": [
       "<Figure size 432x288 with 1 Axes>"
      ]
     },
     "metadata": {
      "needs_background": "light"
     },
     "output_type": "display_data"
    }
   ],
   "source": [
    "#Have a look at the distribution of the 'most shared contigs (calculated by tpmean 10 & 10kb.)'\n",
    "abphagedflen = countmeltlen[countmeltlen['#contig'].isin(abphages)]\n",
    "abphagedflen = abphagedflen[abphagedflen['variable'].isin(absamples)]\n",
    "g = sns.boxplot(x=abphagedflen['#contig'],y=abphagedf['value'])\n",
    "g.set(xticklabels=[])\n",
    "g.set(ylabel='counts/length', title='TP10-10kb contigs > 4 samples')\n",
    "g"
   ]
  },
  {
   "cell_type": "code",
   "execution_count": 12,
   "metadata": {},
   "outputs": [
    {
     "name": "stdout",
     "output_type": "stream",
     "text": [
      "In Total: 228 Survive rel1-10kb treshold.\n",
      "Out of 228 Surviving, 140 are present in more than 1 sample\n",
      "Out of 228 Surviving, 94 are present in 5 or more samples\n"
     ]
    },
    {
     "data": {
      "text/plain": [
       "<matplotlib.axes._subplots.AxesSubplot at 0x7f79a48d8438>"
      ]
     },
     "execution_count": 12,
     "metadata": {},
     "output_type": "execute_result"
    },
    {
     "data": {
      "image/png": "[encoded data removed]",
      "text/plain": [
       "<Figure size 432x288 with 1 Axes>"
      ]
     },
     "metadata": {
      "needs_background": "light"
     },
     "output_type": "display_data"
    }
   ],
   "source": [
    "#Let's put the treshold for relcount (for length only here) at 0.01 (seems reasonable) + keep 10kb limit.\n",
    "sam_condic_rellen_10kb = {}\n",
    "with open('output/relativelength.tsv') as f:\n",
    "    for line in f:\n",
    "        if int(line.strip().split()[0].split('_')[4]) > 10000:\n",
    "            if str(line.strip().split()[1].replace('_filtered.bam', '')) in Dead:\n",
    "                checkstrdead = str(line.strip().split()[1].replace('_filtered.bam', '')) + '_dead'\n",
    "                if checkstrdead not in sam_condic_rellen_10kb:\n",
    "                    if float(line.strip().split()[2]) >= 0.01:\n",
    "                        sam_condic_rellen_10kb[checkstrdead] = [line.strip().split()[0]]\n",
    "                else:\n",
    "                    if float(line.strip().split()[2]) >= 0.01:\n",
    "                        sam_condic_rellen_10kb[checkstrdead].append(line.strip().split()[0])\n",
    "            if str(line.strip().split()[1].replace('_filtered.bam', '')) in Alive:\n",
    "                checkstral = str(line.strip().split()[1].replace('_filtered.bam', '')) + '_alive'\n",
    "                if checkstral not in sam_condic_rellen_10kb:\n",
    "                    if float(line.strip().split()[2]) >= 0.01:\n",
    "                        sam_condic_rellen_10kb[checkstral] = [line.strip().split()[0]]\n",
    "                else:\n",
    "                    if float(line.strip().split()[2]) >= 0.01:\n",
    "                        sam_condic_rellen_10kb[checkstral].append(line.strip().split()[0])\n",
    "#Create a reverse datastructure, to see which contigs are in which samples\n",
    "#Structure: dictionary with contig as key, samples as values\n",
    "con_samdic_rellen_10kb = {}\n",
    "samples_rellen_10kb = []\n",
    "for i in sam_condic_rellen_10kb:\n",
    "    for j in sam_condic_rellen_10kb[i]:\n",
    "        if j not in con_samdic_rellen_10kb:\n",
    "            con_samdic_rellen_10kb[j] = [i]\n",
    "        else:\n",
    "            con_samdic_rellen_10kb[j].append(i)\n",
    "        if j not in samples_rellen_10kb:\n",
    "            samples_rellen_10kb.append(j)\n",
    "con_samcount_rellen_10kb = {}\n",
    "for i in con_samdic_rellen_10kb:\n",
    "    con_samcount_rellen_10kb[i] = len(con_samdic_rellen_10kb[i])\n",
    "morethan1 = 0\n",
    "for i in con_samcount_rellen_10kb:\n",
    "    if con_samcount_rellen_10kb[i] > 1:\n",
    "        morethan1 += 1\n",
    "morethan5 = 0\n",
    "for i in con_samcount_rellen_10kb:\n",
    "    if con_samcount_rellen_10kb[i] > 4:\n",
    "        morethan5 += 1\n",
    "#Print some stats to terminal:\n",
    "print('In Total: ' + str(len(con_samcount_rellen_10kb)) + ' Survive rel1-10kb treshold.')\n",
    "print('Out of '+ str(len(con_samcount_rellen_10kb)) + ' Surviving, ' + str(morethan1) + ' are present in more than 1 sample')\n",
    "print('Out of '+ str(len(con_samcount_rellen_10kb)) + ' Surviving, ' + str(morethan5) + ' are present in 5 or more samples')\n",
    "#Barplots\n",
    "#Throw in dataframe and sort.\n",
    "rellen_10kbcountDF = pd.Series(con_samcount_rellen_10kb).to_frame('Count')\n",
    "rellen_10kbcountDF = rellen_10kbcountDF.sort_values(['Count'], ascending=False).reset_index(drop=False)\n",
    "g = sns.barplot(x=rellen_10kbcountDF.index.values,y=rellen_10kbcountDF['Count'])\n",
    "g.set(ylim=(0, 50))\n",
    "g.set(xticklabels=[])\n",
    "g"
   ]
  },
  {
   "cell_type": "code",
   "execution_count": 17,
   "metadata": {},
   "outputs": [],
   "source": [
    "#Create networks.\n",
    "#tpmean10: Samplenetwork\n",
    "samplenet_tp10 = []\n",
    "samplenet_tp10.append(['source','target','weight'])\n",
    "for i in itertools.combinations(sam_condic_tp10_10kb.keys(), 2):\n",
    "    sam1 = list(i)[0]\n",
    "    sam2 = list(i)[1]\n",
    "    number = len(list(set(sam_condic_tp10_10kb[sam1]) & set(sam_condic_tp10_10kb[sam2])))\n",
    "    if number > 0:\n",
    "        samplenet_tp10.append([sam1, sam2, number])\n",
    "#And write the edgelist out for viz in other software:\n",
    "with open('output/network/samplenet_tp10.csv', 'w', newline='') as csvfile:\n",
    "    writer = csv.writer(csvfile)\n",
    "    writer.writerows(samplenet_tp10)"
   ]
  },
  {
   "cell_type": "code",
   "execution_count": 14,
   "metadata": {},
   "outputs": [],
   "source": [
    "#Create networks:\n",
    "#TPmean10: contignetwork\n",
    "contignet_tp10 = []\n",
    "contignet_tp10.append(['source','target','weight','sample'])\n",
    "for i in itertools.combinations(con_samdic_tp10_10kb.keys(), 2):\n",
    "    sam1 = list(i)[0]\n",
    "    sam2 = list(i)[1]\n",
    "    for j in list(set(con_samdic_tp10_10kb[sam1]) & set(con_samdic_tp10_10kb[sam2])):\n",
    "        contignet_tp10.append([sam1,sam2,1,j])\n",
    "#And write the edgelist out for viz in other software:\n",
    "with open('output/network/contignet_tp10.csv', 'w', newline='') as csvfile:\n",
    "    writer = csv.writer(csvfile)\n",
    "    writer.writerows(contignet_tp10)"
   ]
  },
  {
   "cell_type": "code",
   "execution_count": 15,
   "metadata": {},
   "outputs": [],
   "source": [
    "#Create networks:\n",
    "#relcount: samplenetwork\n",
    "samplenet_rel1 = []\n",
    "samplenet_rel1.append(['source','target','weight'])\n",
    "for i in itertools.combinations(sam_condic_rel1_10kb.keys(), 2):\n",
    "    sam1 = list(i)[0]\n",
    "    sam2 = list(i)[1]\n",
    "    number = len(list(set(sam_condic_rel1_10kb[sam1]) & set(sam_condic_rel1_10kb[sam2])))\n",
    "    if number > 0:\n",
    "        samplenet_rel1.append([sam1, sam2, number])\n",
    "#And write the edgelist out for viz in other software:\n",
    "with open('output/network/samplenet_rel1.csv', 'w', newline='') as csvfile:\n",
    "    writer = csv.writer(csvfile)\n",
    "    writer.writerows(samplenet_rel1)"
   ]
  },
  {
   "cell_type": "code",
   "execution_count": 16,
   "metadata": {},
   "outputs": [],
   "source": [
    "#Create networks:\n",
    "#relcount: contignetwork\n",
    "contignet_rel1 = []\n",
    "contignet_rel1.append(['source','target','weight','sample'])\n",
    "for i in itertools.combinations(con_samdic_rel1_10kb.keys(), 2):\n",
    "    sam1 = list(i)[0]\n",
    "    sam2 = list(i)[1]\n",
    "    for j in list(set(con_samdic_rel1_10kb[sam1]) & set(con_samdic_rel1_10kb[sam2])):\n",
    "        contignet_rel1.append([sam1,sam2,1,j])\n",
    "#And write the edgelist out for viz in other software:\n",
    "with open('output/network/contignet_rel1.csv', 'w', newline='') as csvfile:\n",
    "    writer = csv.writer(csvfile)\n",
    "    writer.writerows(contignet_rel1)"
   ]
  },
  {
   "cell_type": "code",
   "execution_count": 17,
   "metadata": {},
   "outputs": [],
   "source": [
    "#Create networks:\n",
    "#rellen: samplenetwork\n",
    "samplenet_rellen = []\n",
    "samplenet_rellen.append(['source','target','weight'])\n",
    "for i in itertools.combinations(sam_condic_rellen_10kb.keys(), 2):\n",
    "    sam1 = list(i)[0]\n",
    "    sam2 = list(i)[1]\n",
    "    number = len(list(set(sam_condic_rellen_10kb[sam1]) & set(sam_condic_rellen_10kb[sam2])))\n",
    "    if number > 0:\n",
    "        samplenet_rellen.append([sam1, sam2, number])\n",
    "#And write the edgelist out for viz in other software:\n",
    "with open('output/network/samplenet_rellen.csv', 'w', newline='') as csvfile:\n",
    "    writer = csv.writer(csvfile)\n",
    "    writer.writerows(samplenet_rellen)"
   ]
  },
  {
   "cell_type": "code",
   "execution_count": 18,
   "metadata": {},
   "outputs": [],
   "source": [
    "#Create networks:\n",
    "#relcount: contignetwork\n",
    "contignet_rellen = []\n",
    "contignet_rellen.append(['source','target','weight','sample'])\n",
    "for i in itertools.combinations(con_samdic_rellen_10kb.keys(), 2):\n",
    "    sam1 = list(i)[0]\n",
    "    sam2 = list(i)[1]\n",
    "    for j in list(set(con_samdic_rellen_10kb[sam1]) & set(con_samdic_rellen_10kb[sam2])):\n",
    "        contignet_rellen.append([sam1,sam2,1,j])\n",
    "#And write the edgelist out for viz in other software:\n",
    "with open('output/network/contignet_rellen.csv', 'w', newline='') as csvfile:\n",
    "    writer = csv.writer(csvfile)\n",
    "    writer.writerows(contignet_rellen)"
   ]
  },
  {
   "cell_type": "code",
   "execution_count": 19,
   "metadata": {},
   "outputs": [
    {
     "name": "stdout",
     "output_type": "stream",
     "text": [
      "In Total: 228 Survive 5tpmean-10kb treshold.\n",
      "Out of 228 Surviving, 92 are present in more than 1 sample\n",
      "Out of 228 Surviving, 22 are present in 5 or more samples\n"
     ]
    },
    {
     "data": {
      "text/plain": [
       "<matplotlib.axes._subplots.AxesSubplot at 0x7f799ea679b0>"
      ]
     },
     "execution_count": 19,
     "metadata": {},
     "output_type": "execute_result"
    },
    {
     "data": {
      "image/png": "[encoded data removed]",
      "text/plain": [
       "<Figure size 432x288 with 1 Axes>"
      ]
     },
     "metadata": {
      "needs_background": "light"
     },
     "output_type": "display_data"
    }
   ],
   "source": [
    "#Which contigs are most shared based on length (more then 10kb), and TPmean (> 5)?\n",
    "#os.listdir()\n",
    "tpmean = pd.read_csv(\"data/coverage_tpmean.tsv\", sep=\"\\t\")\n",
    "del tpmean['Length']\n",
    "tpmelt = tpmean.melt(id_vars='#contig')\n",
    "tpcut = tpmelt[tpmelt['value'] > 5]\n",
    "tpcut.to_csv(\"output/tpmean_melt_cut_5.csv\", sep='\\t', index=False, header=False)\n",
    "#Which samples have which contigs present?\n",
    "#Structure: dictionary with sample as key, contigs as values.\n",
    "sam_condic_tp5_10kb = {}\n",
    "with open('output/tpmean_melt_cut_5.csv') as f:\n",
    "    for line in f:\n",
    "        if str(line.strip().split()[1].replace('_filtered.bam', '')) in Dead:\n",
    "            checkstrdead = str(line.strip().split()[1].replace('_filtered.bam', '')) + '_dead'\n",
    "            if checkstrdead not in sam_condic_tp5_10kb:\n",
    "                if int(line.strip().split()[0].split('_')[4]) > 10000:\n",
    "                    sam_condic_tp5_10kb[checkstrdead] = [line.strip().split()[0]]\n",
    "            else:\n",
    "                if int(line.strip().split()[0].split('_')[4]) > 10000:\n",
    "                    sam_condic_tp5_10kb[checkstrdead].append(line.strip().split()[0])\n",
    "        if str(line.strip().split()[1].replace('_filtered.bam', '')) in Alive:\n",
    "            checkstral = str(line.strip().split()[1].replace('_filtered.bam', '')) + '_alive'\n",
    "            if checkstral not in sam_condic_tp5_10kb:\n",
    "                if int(line.strip().split()[0].split('_')[4]) > 10000:\n",
    "                    sam_condic_tp5_10kb[checkstral] = [line.strip().split()[0]]\n",
    "            else:\n",
    "                if int(line.strip().split()[0].split('_')[4]) > 10000:\n",
    "                    sam_condic_tp5_10kb[checkstral].append(line.strip().split()[0])\n",
    "#Dictionary done.\n",
    "#Create a reverse datastructure, to see which contigs are in which samples\n",
    "#Structure: dictionary with contig as key, samples as values\n",
    "con_samdic_tp5_10kb = {}\n",
    "contigs_tp5_10kb = []\n",
    "for i in sam_condic_tp5_10kb:\n",
    "    for j in sam_condic_tp5_10kb[i]:\n",
    "        if j not in con_samdic_tp5_10kb:\n",
    "            con_samdic_tp5_10kb[j] = [i]\n",
    "        else:\n",
    "            con_samdic_tp5_10kb[j].append(i)\n",
    "        if j not in contigs_tp5_10kb:\n",
    "            contigs_tp5_10kb.append(j)\n",
    "con_samcount_tp5_10kb = {}\n",
    "for i in con_samdic_tp5_10kb:\n",
    "    con_samcount_tp5_10kb[i] = len(con_samdic_tp5_10kb[i])\n",
    "morethan1 = 0\n",
    "for i in con_samcount_tp5_10kb:\n",
    "    if con_samcount_tp5_10kb[i] > 1:\n",
    "        morethan1 += 1\n",
    "morethan5 = 0\n",
    "for i in con_samcount_tp5_10kb:\n",
    "    if con_samcount_tp5_10kb[i] > 4:\n",
    "        morethan5 += 1\n",
    "#Print some stats to terminal:\n",
    "print('In Total: ' + str(len(con_samcount_tp5_10kb)) + ' Survive 5tpmean-10kb treshold.')\n",
    "print('Out of '+ str(len(con_samcount_tp5_10kb)) + ' Surviving, ' + str(morethan1) + ' are present in more than 1 sample')\n",
    "print('Out of '+ str(len(con_samcount_tp5_10kb)) + ' Surviving, ' + str(morethan5) + ' are present in 5 or more samples')\n",
    "#In this case, we want to grab the contig names of those that are present in 5 or more samples:\n",
    "#And get the samples name also.\n",
    "abphages = []\n",
    "absamples = []\n",
    "for i in con_samdic_tp5_10kb:\n",
    "    if len(con_samdic_tp5_10kb[i]) > 4:\n",
    "        abphages.append(i)\n",
    "        for j in con_samdic_tp5_10kb[i]:\n",
    "            if 'dead' in j:\n",
    "                if j.replace('dead','filtered.bam') not in absamples:\n",
    "                    absamples.append(j.replace('dead','filtered.bam'))\n",
    "            if 'alive' in j:\n",
    "                if j.replace('alive','filtered.bam') not in absamples:\n",
    "                    absamples.append(j.replace('alive','filtered.bam'))\n",
    "#Barplots\n",
    "#Throw in dataframe and sort.\n",
    "tp5_10kbcountDF = pd.Series(con_samcount_tp5_10kb).to_frame('Count')\n",
    "tp5_10kbcountDF = tp5_10kbcountDF.sort_values(['Count'], ascending=False).reset_index(drop=False)\n",
    "g = sns.barplot(x=tp5_10kbcountDF.index.values,y=tp5_10kbcountDF['Count'])\n",
    "g.set(ylim=(0, 35))\n",
    "g.set(xticklabels=[])\n",
    "g"
   ]
  },
  {
   "cell_type": "code",
   "execution_count": 20,
   "metadata": {},
   "outputs": [],
   "source": [
    "#Create networks.\n",
    "#tpmean5: Samplenetwork\n",
    "samplenet_tp5 = []\n",
    "samplenet_tp5.append(['source','target','weight'])\n",
    "for i in itertools.combinations(sam_condic_tp5_10kb.keys(), 2):\n",
    "    sam1 = list(i)[0]\n",
    "    sam2 = list(i)[1]\n",
    "    number = len(list(set(sam_condic_tp5_10kb[sam1]) & set(sam_condic_tp5_10kb[sam2])))\n",
    "    if number > 0:\n",
    "        samplenet_tp5.append([sam1, sam2, number])\n",
    "#And write the edgelist out for viz in other software:\n",
    "with open('output/network/samplenet_tp5.csv', 'w', newline='') as csvfile:\n",
    "    writer = csv.writer(csvfile)\n",
    "    writer.writerows(samplenet_tp5)"
   ]
  },
  {
   "cell_type": "code",
   "execution_count": 21,
   "metadata": {},
   "outputs": [],
   "source": [
    "#Create networks:\n",
    "#TPmean5: contignetwork\n",
    "contignet_tp5 = []\n",
    "contignet_tp5.append(['source','target','weight','sample'])\n",
    "for i in itertools.combinations(con_samdic_tp5_10kb.keys(), 2):\n",
    "    sam1 = list(i)[0]\n",
    "    sam2 = list(i)[1]\n",
    "    for j in list(set(con_samdic_tp5_10kb[sam1]) & set(con_samdic_tp5_10kb[sam2])):\n",
    "        contignet_tp5.append([sam1,sam2,1,j])\n",
    "#And write the edgelist out for viz in other software:\n",
    "with open('output/network/contignet_tp5.csv', 'w', newline='') as csvfile:\n",
    "    writer = csv.writer(csvfile)\n",
    "    writer.writerows(contignet_tp5)"
   ]
  },
  {
   "cell_type": "code",
   "execution_count": 22,
   "metadata": {},
   "outputs": [],
   "source": [
    "#Create networks:\n",
    "#relcount: contignetwork\n",
    "contignet_rellen_addinfo = []\n",
    "contignet_rellen_addinfo.append(['source','target','weight','sampletype'])\n",
    "for i in itertools.combinations(con_samdic_rellen_10kb.keys(), 2):\n",
    "    sam1 = list(i)[0]\n",
    "    sam2 = list(i)[1]\n",
    "    if len(list(set(con_samdic_rellen_10kb[sam1]) & set(con_samdic_rellen_10kb[sam2]))) == 1:\n",
    "        contignet_rellen_addinfo.append([sam1,sam2,1,list(set(con_samdic_rellen_10kb[sam1]) & set(con_samdic_rellen_10kb[sam2]))[0]])\n",
    "    if len(list(set(con_samdic_rellen_10kb[sam1]) & set(con_samdic_rellen_10kb[sam2]))) > 1:\n",
    "        contignet_rellen_addinfo.append([sam1,sam2,len(list(set(con_samdic_rellen_10kb[sam1]) & set(con_samdic_rellen_10kb[sam2]))),'mixed'])\n",
    "with open('output/network/contignet_rellen_addinfo.csv', 'w', newline='') as csvfile:\n",
    "    writer = csv.writer(csvfile)\n",
    "    writer.writerows(contignet_rellen_addinfo)"
   ]
  },
  {
   "cell_type": "code",
   "execution_count": 42,
   "metadata": {},
   "outputs": [],
   "source": [
    "#Generate the file contignet_rellen_modularitygroup.csv in gephi.\n",
    "#This file is 'community calculation' based on the modularity of the network and will be used later.\n",
    "modularitydic = {}\n",
    "#Take all the contigs from coverage file, and assign (for now) them all to 'low group' (= low coverage).\n",
    "allcontigs = {}\n",
    "with open ('data/coverage_tpmean.tsv') as f:\n",
    "    for line in f:\n",
    "        if line.split()[0] != '#contig':\n",
    "            allcontigs[line.split()[0]] = 'Low coverage'\n",
    "#Now update the information for all the surviving contigs:\n",
    "modinfocons = []\n",
    "with open('data/contignet_rellen_modularitygroup.csv') as f:\n",
    "    for line in f:\n",
    "        if line.split(',')[0] != 'Id':\n",
    "            modinfocons.append(line.split(',')[0])\n",
    "\n",
    "with open('output/relativecounts.tsv') as f:\n",
    "    for line in f:\n",
    "        if float(line.strip().split()[2]) > 0.01:\n",
    "            if line.strip().split()[0] not in modinfocons:\n",
    "                if int(line.strip().split('_')[4]) < 10000:\n",
    "                    allcontigs[line.strip().split()[0]] = 'High coverage'\n",
    "#Finaly update with the modularity information:\n",
    "with open('data/contignet_rellen_modularitygroup.csv') as f:\n",
    "    for line in f:\n",
    "        if line.split(',')[0] != 'Id':\n",
    "            if int(line.strip().split(',')[1]) == 0:\n",
    "                allcontigs[line.strip().split(',')[0]] = 'High modularity 0'\n",
    "            if int(line.strip().split(',')[1]) == 1:\n",
    "                allcontigs[line.strip().split(',')[0]] = 'High modularity 1'\n",
    "            if int(line.strip().split(',')[1]) == 2:\n",
    "                allcontigs[line.strip().split(',')[0]] = 'High modularity 2'\n",
    "contigmodDF = pd.Series(allcontigs).to_frame('Group')\n",
    "contigmodDF.to_csv('output/contigs_modularityinfo.csv')"
   ]
  },
  {
   "cell_type": "code",
   "execution_count": null,
   "metadata": {},
   "outputs": [],
   "source": []
  }
 ],
 "metadata": {
  "kernelspec": {
   "display_name": "Python 3",
   "language": "python",
   "name": "python3"
  },
  "language_info": {
   "codemirror_mode": {
    "name": "ipython",
    "version": 3
   },
   "file_extension": ".py",
   "mimetype": "text/x-python",
   "name": "python",
   "nbconvert_exporter": "python",
   "pygments_lexer": "ipython3",
   "version": "3.7.3"
  }
 },
 "nbformat": 4,
 "nbformat_minor": 2
}
